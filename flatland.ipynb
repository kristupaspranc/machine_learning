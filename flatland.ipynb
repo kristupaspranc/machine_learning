{
  "nbformat": 4,
  "nbformat_minor": 0,
  "metadata": {
    "colab": {
      "provenance": [],
      "gpuType": "T4",
      "authorship_tag": "ABX9TyOEt2PEX8WIeN0z5El6cl+C"
    },
    "kernelspec": {
      "name": "python3",
      "display_name": "Python 3"
    },
    "language_info": {
      "name": "python"
    },
    "accelerator": "GPU"
  },
  "cells": [
    {
      "cell_type": "code",
      "execution_count": 1,
      "metadata": {
        "id": "z3wWGcyRGGX8"
      },
      "outputs": [],
      "source": [
        "import numpy as np\n",
        "import matplotlib.pyplot as plt\n",
        "from google.colab import files\n",
        "import pandas as pd\n",
        "from google.colab import drive\n",
        "import os\n",
        "import keras\n",
        "from sklearn.model_selection import train_test_split\n",
        "from keras.layers import Dense, Input, Dropout, MaxPooling2D, Flatten, Conv2D\n",
        "from keras.models import Sequential\n",
        "from keras.optimizers import Adam\n",
        "from keras.metrics import SparseCategoricalAccuracy\n",
        "from keras.preprocessing.image import ImageDataGenerator"
      ]
    },
    {
      "cell_type": "code",
      "source": [
        "def get_data():\n",
        "  '''\n",
        "  mount the data from google drive to runtime\n",
        "  '''\n",
        "  if not os.path.exists('/content/gdrive'):\n",
        "    drive.mount('/content/gdrive')\n",
        "\n",
        "  with np.load('/content/gdrive/MyDrive/Colab Notebooks/flatland_train.npz') as data:\n",
        "    return data[data.files[0]], data[data.files[1]]"
      ],
      "metadata": {
        "id": "e6Ex1minLlUo"
      },
      "execution_count": 2,
      "outputs": []
    },
    {
      "cell_type": "code",
      "source": [
        "'''\n",
        "normalize the features and move y values as given in the task\n",
        "'''\n",
        "\n",
        "X, y = get_data()\n",
        "y[y != 0] -= 2\n",
        "X /= 255"
      ],
      "metadata": {
        "id": "pkCsGjrdPYqU"
      },
      "execution_count": 3,
      "outputs": []
    },
    {
      "cell_type": "code",
      "source": [
        "'''\n",
        "image augmentation generator\n",
        "'''\n",
        "\n",
        "train_datagen = ImageDataGenerator(\n",
        "    rotation_range=10,\n",
        "    width_shift_range=0.2,\n",
        "    height_shift_range=0.2,\n",
        "    shear_range=0.2,\n",
        "    zoom_range = 0.2,\n",
        ")"
      ],
      "metadata": {
        "id": "ZBjoKSZcO08f"
      },
      "execution_count": 4,
      "outputs": []
    },
    {
      "cell_type": "code",
      "source": [
        "'''\n",
        "doubling the size of given data inputs, accrodingly the y values\n",
        "'''\n",
        "\n",
        "X_doubled = np.zeros([2*X.shape[0], X.shape[1], X.shape[2]])\n",
        "\n",
        "X_doubled[:X.shape[0], :, :] = X[:X.shape[0], :, :]\n",
        "X_doubled[X.shape[0]:, :, :] = X[:X.shape[0], :, :]\n",
        "\n",
        "X_doubled = X_doubled.reshape(X_doubled.shape[0], X_doubled.shape[1], X_doubled.shape[2], 1)\n",
        "y_doubled = np.concatenate((y, y))"
      ],
      "metadata": {
        "id": "udIsFAEwksCB"
      },
      "execution_count": 5,
      "outputs": []
    },
    {
      "cell_type": "code",
      "source": [
        "'''\n",
        "augmenting the data with generator\n",
        "'''\n",
        "\n",
        "augmented_data = train_datagen.flow(\n",
        "    X_doubled,\n",
        "    y_doubled,\n",
        "    batch_size=X_doubled.shape[0]\n",
        ")"
      ],
      "metadata": {
        "id": "HwUOz-QAkzLG"
      },
      "execution_count": 6,
      "outputs": []
    },
    {
      "cell_type": "code",
      "source": [
        "'''\n",
        "assign the data\n",
        "'''\n",
        "\n",
        "X_augmented = augmented_data[0][0]\n",
        "y_augmented = augmented_data[0][1]"
      ],
      "metadata": {
        "id": "yYjmNxLSk318"
      },
      "execution_count": 7,
      "outputs": []
    },
    {
      "cell_type": "code",
      "source": [
        "'''\n",
        "y values, classification outcomes\n",
        "'''\n",
        "\n",
        "np.unique(y)"
      ],
      "metadata": {
        "colab": {
          "base_uri": "https://localhost:8080/"
        },
        "id": "G-5Y-qCrRBuI",
        "outputId": "80d1ebb1-1a38-421c-d465-d4d9b3996b8b"
      },
      "execution_count": 8,
      "outputs": [
        {
          "output_type": "execute_result",
          "data": {
            "text/plain": [
              "array([0., 1., 2., 3., 4.])"
            ]
          },
          "metadata": {},
          "execution_count": 8
        }
      ]
    },
    {
      "cell_type": "code",
      "source": [
        "'''\n",
        "image visualization\n",
        "'''\n",
        "\n",
        "fig, axes = plt.subplots(1, 5)\n",
        "\n",
        "for i in range(5):\n",
        "  axes[i].imshow(X_augmented[i], cmap='gray')\n",
        "  axes[i].set_title(y_augmented[i])\n",
        "\n",
        "plt.tight_layout()\n",
        "plt.show()"
      ],
      "metadata": {
        "colab": {
          "base_uri": "https://localhost:8080/",
          "height": 165
        },
        "id": "HM2weGL8XRhQ",
        "outputId": "91afc378-923b-4208-810f-4a4db5653566"
      },
      "execution_count": 9,
      "outputs": [
        {
          "output_type": "display_data",
          "data": {
            "text/plain": [
              "<Figure size 640x480 with 5 Axes>"
            ],
            "image/png": "[encoded data removed]"
          },
          "metadata": {}
        }
      ]
    },
    {
      "cell_type": "code",
      "source": [
        "'''\n",
        "Convolutional network model via Sequential()\n",
        "'''\n",
        "\n",
        "model = Sequential()\n",
        "model.add(Conv2D(10, kernel_size=(3, 3), input_shape=[50, 50, 1], activation='relu'))\n",
        "model.add(Dropout(0.2))\n",
        "model.add(Conv2D(14, kernel_size=(4, 4), activation='relu'))\n",
        "model.add(Dropout(0.2))\n",
        "model.add(Conv2D(18, kernel_size=(5, 5), activation='relu'))\n",
        "model.add(MaxPooling2D(pool_size=(5, 5)))\n",
        "model.add(Flatten())\n",
        "model.add(Dense(16, activation='relu'))\n",
        "model.add(Dense(8, activation='relu'))\n",
        "model.add(Dense(5, activation='softmax'))\n",
        "model.compile(loss=\"sparse_categorical_crossentropy\",\n",
        "              optimizer=keras.optimizers.Adam(learning_rate=0.005),\n",
        "              metrics=[SparseCategoricalAccuracy()],\n",
        "              )\n",
        "model.summary()"
      ],
      "metadata": {
        "colab": {
          "base_uri": "https://localhost:8080/"
        },
        "id": "IvhRJbZvmTZi",
        "outputId": "a0b2211f-0831-4a47-cf94-fa885e43175b"
      },
      "execution_count": 10,
      "outputs": [
        {
          "output_type": "stream",
          "name": "stdout",
          "text": [
            "Model: \"sequential\"\n",
            "_________________________________________________________________\n",
            " Layer (type)                Output Shape              Param #   \n",
            "=================================================================\n",
            " conv2d (Conv2D)             (None, 48, 48, 10)        100       \n",
            "                                                                 \n",
            " dropout (Dropout)           (None, 48, 48, 10)        0         \n",
            "                                                                 \n",
            " conv2d_1 (Conv2D)           (None, 45, 45, 14)        2254      \n",
            "                                                                 \n",
            " dropout_1 (Dropout)         (None, 45, 45, 14)        0         \n",
            "                                                                 \n",
            " conv2d_2 (Conv2D)           (None, 41, 41, 18)        6318      \n",
            "                                                                 \n",
            " max_pooling2d (MaxPooling2  (None, 8, 8, 18)          0         \n",
            " D)                                                              \n",
            "                                                                 \n",
            " flatten (Flatten)           (None, 1152)              0         \n",
            "                                                                 \n",
            " dense (Dense)               (None, 16)                18448     \n",
            "                                                                 \n",
            " dense_1 (Dense)             (None, 8)                 136       \n",
            "                                                                 \n",
            " dense_2 (Dense)             (None, 5)                 45        \n",
            "                                                                 \n",
            "=================================================================\n",
            "Total params: 27301 (106.64 KB)\n",
            "Trainable params: 27301 (106.64 KB)\n",
            "Non-trainable params: 0 (0.00 Byte)\n",
            "_________________________________________________________________\n"
          ]
        }
      ]
    },
    {
      "cell_type": "code",
      "source": [
        "'''\n",
        "fitting the model\n",
        "'''\n",
        "\n",
        "loss = model.fit(X_augmented,\n",
        "                 y_augmented,\n",
        "                 epochs=40,\n",
        "                 batch_size=128,\n",
        "                 validation_split=0.2)"
      ],
      "metadata": {
        "colab": {
          "base_uri": "https://localhost:8080/"
        },
        "id": "NISY-e_LmWAY",
        "outputId": "61e53777-a42f-439c-d52a-a1b086760fd0"
      },
      "execution_count": 11,
      "outputs": [
        {
          "output_type": "stream",
          "name": "stdout",
          "text": [
            "Epoch 1/40\n",
            "125/125 [==============================] - 12s 24ms/step - loss: 1.3910 - sparse_categorical_accuracy: 0.3738 - val_loss: 1.3255 - val_sparse_categorical_accuracy: 0.4145\n",
            "Epoch 2/40\n",
            "125/125 [==============================] - 2s 17ms/step - loss: 0.9688 - sparse_categorical_accuracy: 0.5872 - val_loss: 0.6712 - val_sparse_categorical_accuracy: 0.7347\n",
            "Epoch 3/40\n",
            "125/125 [==============================] - 2s 18ms/step - loss: 0.5778 - sparse_categorical_accuracy: 0.7919 - val_loss: 0.4267 - val_sparse_categorical_accuracy: 0.8775\n",
            "Epoch 4/40\n",
            "125/125 [==============================] - 2s 16ms/step - loss: 0.3720 - sparse_categorical_accuracy: 0.8897 - val_loss: 0.3037 - val_sparse_categorical_accuracy: 0.9250\n",
            "Epoch 5/40\n",
            "125/125 [==============================] - 2s 16ms/step - loss: 0.2921 - sparse_categorical_accuracy: 0.9189 - val_loss: 0.3495 - val_sparse_categorical_accuracy: 0.9010\n",
            "Epoch 6/40\n",
            "125/125 [==============================] - 2s 16ms/step - loss: 0.2606 - sparse_categorical_accuracy: 0.9300 - val_loss: 0.3021 - val_sparse_categorical_accuracy: 0.9180\n",
            "Epoch 7/40\n",
            "125/125 [==============================] - 2s 16ms/step - loss: 0.2356 - sparse_categorical_accuracy: 0.9374 - val_loss: 0.2578 - val_sparse_categorical_accuracy: 0.9398\n",
            "Epoch 8/40\n",
            "125/125 [==============================] - 2s 16ms/step - loss: 0.2237 - sparse_categorical_accuracy: 0.9402 - val_loss: 0.2628 - val_sparse_categorical_accuracy: 0.9330\n",
            "Epoch 9/40\n",
            "125/125 [==============================] - 2s 17ms/step - loss: 0.2009 - sparse_categorical_accuracy: 0.9474 - val_loss: 0.2178 - val_sparse_categorical_accuracy: 0.9520\n",
            "Epoch 10/40\n",
            "125/125 [==============================] - 2s 17ms/step - loss: 0.1899 - sparse_categorical_accuracy: 0.9494 - val_loss: 0.2446 - val_sparse_categorical_accuracy: 0.9460\n",
            "Epoch 11/40\n",
            "125/125 [==============================] - 2s 19ms/step - loss: 0.1832 - sparse_categorical_accuracy: 0.9519 - val_loss: 0.2245 - val_sparse_categorical_accuracy: 0.9517\n",
            "Epoch 12/40\n",
            "125/125 [==============================] - 2s 17ms/step - loss: 0.1739 - sparse_categorical_accuracy: 0.9511 - val_loss: 0.2297 - val_sparse_categorical_accuracy: 0.9500\n",
            "Epoch 13/40\n",
            "125/125 [==============================] - 2s 16ms/step - loss: 0.1676 - sparse_categorical_accuracy: 0.9554 - val_loss: 0.3116 - val_sparse_categorical_accuracy: 0.9225\n",
            "Epoch 14/40\n",
            "125/125 [==============================] - 2s 16ms/step - loss: 0.1682 - sparse_categorical_accuracy: 0.9545 - val_loss: 0.2301 - val_sparse_categorical_accuracy: 0.9572\n",
            "Epoch 15/40\n",
            "125/125 [==============================] - 2s 16ms/step - loss: 0.1626 - sparse_categorical_accuracy: 0.9567 - val_loss: 0.2906 - val_sparse_categorical_accuracy: 0.9305\n",
            "Epoch 16/40\n",
            "125/125 [==============================] - 2s 17ms/step - loss: 0.1503 - sparse_categorical_accuracy: 0.9604 - val_loss: 0.2552 - val_sparse_categorical_accuracy: 0.9390\n",
            "Epoch 17/40\n",
            "125/125 [==============================] - 2s 18ms/step - loss: 0.1466 - sparse_categorical_accuracy: 0.9582 - val_loss: 0.2395 - val_sparse_categorical_accuracy: 0.9448\n",
            "Epoch 18/40\n",
            "125/125 [==============================] - 2s 18ms/step - loss: 0.1453 - sparse_categorical_accuracy: 0.9589 - val_loss: 0.2579 - val_sparse_categorical_accuracy: 0.9420\n",
            "Epoch 19/40\n",
            "125/125 [==============================] - 2s 17ms/step - loss: 0.1349 - sparse_categorical_accuracy: 0.9627 - val_loss: 0.2612 - val_sparse_categorical_accuracy: 0.9383\n",
            "Epoch 20/40\n",
            "125/125 [==============================] - 2s 16ms/step - loss: 0.2457 - sparse_categorical_accuracy: 0.9283 - val_loss: 0.3244 - val_sparse_categorical_accuracy: 0.9202\n",
            "Epoch 21/40\n",
            "125/125 [==============================] - 2s 16ms/step - loss: 0.1561 - sparse_categorical_accuracy: 0.9553 - val_loss: 0.2504 - val_sparse_categorical_accuracy: 0.9515\n",
            "Epoch 22/40\n",
            "125/125 [==============================] - 2s 16ms/step - loss: 0.1304 - sparse_categorical_accuracy: 0.9648 - val_loss: 0.2310 - val_sparse_categorical_accuracy: 0.9560\n",
            "Epoch 23/40\n",
            "125/125 [==============================] - 2s 16ms/step - loss: 0.1262 - sparse_categorical_accuracy: 0.9645 - val_loss: 0.2592 - val_sparse_categorical_accuracy: 0.9427\n",
            "Epoch 24/40\n",
            "125/125 [==============================] - 2s 17ms/step - loss: 0.1259 - sparse_categorical_accuracy: 0.9652 - val_loss: 0.2433 - val_sparse_categorical_accuracy: 0.9492\n",
            "Epoch 25/40\n",
            "125/125 [==============================] - 2s 18ms/step - loss: 0.1151 - sparse_categorical_accuracy: 0.9670 - val_loss: 0.2500 - val_sparse_categorical_accuracy: 0.9492\n",
            "Epoch 26/40\n",
            "125/125 [==============================] - 2s 17ms/step - loss: 0.1176 - sparse_categorical_accuracy: 0.9661 - val_loss: 0.2643 - val_sparse_categorical_accuracy: 0.9457\n",
            "Epoch 27/40\n",
            "125/125 [==============================] - 3s 26ms/step - loss: 0.1183 - sparse_categorical_accuracy: 0.9661 - val_loss: 0.2631 - val_sparse_categorical_accuracy: 0.9503\n",
            "Epoch 28/40\n",
            "125/125 [==============================] - 2s 16ms/step - loss: 0.1053 - sparse_categorical_accuracy: 0.9696 - val_loss: 0.2610 - val_sparse_categorical_accuracy: 0.9510\n",
            "Epoch 29/40\n",
            "125/125 [==============================] - 2s 16ms/step - loss: 0.1119 - sparse_categorical_accuracy: 0.9672 - val_loss: 0.2316 - val_sparse_categorical_accuracy: 0.9580\n",
            "Epoch 30/40\n",
            "125/125 [==============================] - 2s 16ms/step - loss: 0.0995 - sparse_categorical_accuracy: 0.9716 - val_loss: 0.2364 - val_sparse_categorical_accuracy: 0.9557\n",
            "Epoch 31/40\n",
            "125/125 [==============================] - 3s 22ms/step - loss: 0.1063 - sparse_categorical_accuracy: 0.9690 - val_loss: 0.2532 - val_sparse_categorical_accuracy: 0.9510\n",
            "Epoch 32/40\n",
            "125/125 [==============================] - 2s 18ms/step - loss: 0.1087 - sparse_categorical_accuracy: 0.9665 - val_loss: 0.2632 - val_sparse_categorical_accuracy: 0.9442\n",
            "Epoch 33/40\n",
            "125/125 [==============================] - 2s 17ms/step - loss: 0.1053 - sparse_categorical_accuracy: 0.9697 - val_loss: 0.2646 - val_sparse_categorical_accuracy: 0.9477\n",
            "Epoch 34/40\n",
            "125/125 [==============================] - 2s 17ms/step - loss: 0.1063 - sparse_categorical_accuracy: 0.9682 - val_loss: 0.2571 - val_sparse_categorical_accuracy: 0.9525\n",
            "Epoch 35/40\n",
            "125/125 [==============================] - 2s 16ms/step - loss: 0.1066 - sparse_categorical_accuracy: 0.9679 - val_loss: 0.2750 - val_sparse_categorical_accuracy: 0.9515\n",
            "Epoch 36/40\n",
            "125/125 [==============================] - 2s 16ms/step - loss: 0.0976 - sparse_categorical_accuracy: 0.9720 - val_loss: 0.2745 - val_sparse_categorical_accuracy: 0.9477\n",
            "Epoch 37/40\n",
            "125/125 [==============================] - 2s 16ms/step - loss: 0.1040 - sparse_categorical_accuracy: 0.9682 - val_loss: 0.2533 - val_sparse_categorical_accuracy: 0.9532\n",
            "Epoch 38/40\n",
            "125/125 [==============================] - 2s 16ms/step - loss: 0.0901 - sparse_categorical_accuracy: 0.9724 - val_loss: 0.3080 - val_sparse_categorical_accuracy: 0.9413\n",
            "Epoch 39/40\n",
            "125/125 [==============================] - 2s 17ms/step - loss: 0.1026 - sparse_categorical_accuracy: 0.9689 - val_loss: 0.2906 - val_sparse_categorical_accuracy: 0.9505\n",
            "Epoch 40/40\n",
            "125/125 [==============================] - 2s 18ms/step - loss: 0.0866 - sparse_categorical_accuracy: 0.9743 - val_loss: 0.2970 - val_sparse_categorical_accuracy: 0.9488\n"
          ]
        }
      ]
    },
    {
      "cell_type": "code",
      "source": [
        "'''\n",
        "checking progression\n",
        "'''\n",
        "\n",
        "pd.DataFrame(loss.history).plot()"
      ],
      "metadata": {
        "colab": {
          "base_uri": "https://localhost:8080/",
          "height": 447
        },
        "id": "L6k239Igb4lV",
        "outputId": "a6a41ed9-da59-411f-f508-8c8ec65f4b68"
      },
      "execution_count": 12,
      "outputs": [
        {
          "output_type": "execute_result",
          "data": {
            "text/plain": [
              "<Axes: >"
            ]
          },
          "metadata": {},
          "execution_count": 12
        },
        {
          "output_type": "display_data",
          "data": {
            "text/plain": [
              "<Figure size 640x480 with 1 Axes>"
            ],
            "image/png": "[encoded data removed]"
          },
          "metadata": {}
        }
      ]
    },
    {
      "cell_type": "code",
      "source": [
        "model.save('model.h5')"
      ],
      "metadata": {
        "id": "acNuCfx8270I",
        "colab": {
          "base_uri": "https://localhost:8080/"
        },
        "outputId": "80dd7480-8fea-4af3-98f3-6a84fddd426f"
      },
      "execution_count": null,
      "outputs": [
        {
          "output_type": "stream",
          "name": "stderr",
          "text": [
            "/usr/local/lib/python3.10/dist-packages/keras/src/engine/training.py:3079: UserWarning: You are saving your model as an HDF5 file via `model.save()`. This file format is considered legacy. We recommend using instead the native Keras format, e.g. `model.save('my_model.keras')`.\n",
            "  saving_api.save_model(\n"
          ]
        }
      ]
    },
    {
      "cell_type": "markdown",
      "source": [
        "Tried but did not work"
      ],
      "metadata": {
        "id": "vIdHO9306r06"
      }
    },
    {
      "cell_type": "code",
      "source": [
        "#splitting the data into test and train\n",
        "\n",
        "X_train, X_test, y_train, y_test = train_test_split(X, y, test_size=0.2, random_state=42)"
      ],
      "metadata": {
        "id": "XwmmBu9O0elP"
      },
      "execution_count": null,
      "outputs": []
    },
    {
      "cell_type": "code",
      "source": [
        "loss = model.fit(train_generator,\n",
        "                 epochs=100,\n",
        "                 batch_size=128,\n",
        "                 verbose=1,\n",
        "                 validation_data=(X_test, y_test))"
      ],
      "metadata": {
        "colab": {
          "base_uri": "https://localhost:8080/",
          "height": 564
        },
        "id": "7E0cJpRebkbx",
        "outputId": "dc9fe66a-06b7-4c75-c1e7-a279555de013"
      },
      "execution_count": null,
      "outputs": [
        {
          "output_type": "stream",
          "name": "stdout",
          "text": [
            "Epoch 1/100\n",
            "63/63 [==============================] - 7s 70ms/step - loss: 13.7323 - accuracy: 0.2836 - val_loss: 1.5879 - val_accuracy: 0.2805\n",
            "Epoch 2/100\n",
            "63/63 [==============================] - 5s 85ms/step - loss: 1.5822 - accuracy: 0.2865 - val_loss: 1.5879 - val_accuracy: 0.2805\n",
            "Epoch 3/100\n",
            "63/63 [==============================] - 4s 59ms/step - loss: 1.5806 - accuracy: 0.2865 - val_loss: 1.5879 - val_accuracy: 0.2805\n",
            "Epoch 4/100\n",
            "63/63 [==============================] - 4s 57ms/step - loss: 1.5845 - accuracy: 0.2775 - val_loss: 1.5892 - val_accuracy: 0.2805\n",
            "Epoch 5/100\n",
            "41/63 [==================>...........] - ETA: 2s - loss: 1.5834 - accuracy: 0.2882"
          ]
        },
        {
          "output_type": "error",
          "ename": "KeyboardInterrupt",
          "evalue": "ignored",
          "traceback": [
            "\u001b[0;31m---------------------------------------------------------------------------\u001b[0m",
            "\u001b[0;31mKeyboardInterrupt\u001b[0m                         Traceback (most recent call last)",
            "\u001b[0;32m<ipython-input-19-4863ff2fb576>\u001b[0m in \u001b[0;36m<cell line: 1>\u001b[0;34m()\u001b[0m\n\u001b[0;32m----> 1\u001b[0;31m loss = model.fit(train_generator,\n\u001b[0m\u001b[1;32m      2\u001b[0m                  \u001b[0mepochs\u001b[0m\u001b[0;34m=\u001b[0m\u001b[0;36m100\u001b[0m\u001b[0;34m,\u001b[0m\u001b[0;34m\u001b[0m\u001b[0;34m\u001b[0m\u001b[0m\n\u001b[1;32m      3\u001b[0m                  \u001b[0mbatch_size\u001b[0m\u001b[0;34m=\u001b[0m\u001b[0;36m128\u001b[0m\u001b[0;34m,\u001b[0m\u001b[0;34m\u001b[0m\u001b[0;34m\u001b[0m\u001b[0m\n\u001b[1;32m      4\u001b[0m                  \u001b[0mverbose\u001b[0m\u001b[0;34m=\u001b[0m\u001b[0;36m1\u001b[0m\u001b[0;34m,\u001b[0m\u001b[0;34m\u001b[0m\u001b[0;34m\u001b[0m\u001b[0m\n\u001b[1;32m      5\u001b[0m                  validation_data=(X_test, y_test))\n",
            "\u001b[0;32m/usr/local/lib/python3.10/dist-packages/keras/src/utils/traceback_utils.py\u001b[0m in \u001b[0;36merror_handler\u001b[0;34m(*args, **kwargs)\u001b[0m\n\u001b[1;32m     63\u001b[0m         \u001b[0mfiltered_tb\u001b[0m \u001b[0;34m=\u001b[0m \u001b[0;32mNone\u001b[0m\u001b[0;34m\u001b[0m\u001b[0;34m\u001b[0m\u001b[0m\n\u001b[1;32m     64\u001b[0m         \u001b[0;32mtry\u001b[0m\u001b[0;34m:\u001b[0m\u001b[0;34m\u001b[0m\u001b[0;34m\u001b[0m\u001b[0m\n\u001b[0;32m---> 65\u001b[0;31m             \u001b[0;32mreturn\u001b[0m \u001b[0mfn\u001b[0m\u001b[0;34m(\u001b[0m\u001b[0;34m*\u001b[0m\u001b[0margs\u001b[0m\u001b[0;34m,\u001b[0m \u001b[0;34m**\u001b[0m\u001b[0mkwargs\u001b[0m\u001b[0;34m)\u001b[0m\u001b[0;34m\u001b[0m\u001b[0;34m\u001b[0m\u001b[0m\n\u001b[0m\u001b[1;32m     66\u001b[0m         \u001b[0;32mexcept\u001b[0m \u001b[0mException\u001b[0m \u001b[0;32mas\u001b[0m \u001b[0me\u001b[0m\u001b[0;34m:\u001b[0m\u001b[0;34m\u001b[0m\u001b[0;34m\u001b[0m\u001b[0m\n\u001b[1;32m     67\u001b[0m             \u001b[0mfiltered_tb\u001b[0m \u001b[0;34m=\u001b[0m \u001b[0m_process_traceback_frames\u001b[0m\u001b[0;34m(\u001b[0m\u001b[0me\u001b[0m\u001b[0;34m.\u001b[0m\u001b[0m__traceback__\u001b[0m\u001b[0;34m)\u001b[0m\u001b[0;34m\u001b[0m\u001b[0;34m\u001b[0m\u001b[0m\n",
            "\u001b[0;32m/usr/local/lib/python3.10/dist-packages/keras/src/engine/training.py\u001b[0m in \u001b[0;36mfit\u001b[0;34m(self, x, y, batch_size, epochs, verbose, callbacks, validation_split, validation_data, shuffle, class_weight, sample_weight, initial_epoch, steps_per_epoch, validation_steps, validation_batch_size, validation_freq, max_queue_size, workers, use_multiprocessing)\u001b[0m\n\u001b[1;32m   1781\u001b[0m                         ):\n\u001b[1;32m   1782\u001b[0m                             \u001b[0mcallbacks\u001b[0m\u001b[0;34m.\u001b[0m\u001b[0mon_train_batch_begin\u001b[0m\u001b[0;34m(\u001b[0m\u001b[0mstep\u001b[0m\u001b[0;34m)\u001b[0m\u001b[0;34m\u001b[0m\u001b[0;34m\u001b[0m\u001b[0m\n\u001b[0;32m-> 1783\u001b[0;31m                             \u001b[0mtmp_logs\u001b[0m \u001b[0;34m=\u001b[0m \u001b[0mself\u001b[0m\u001b[0;34m.\u001b[0m\u001b[0mtrain_function\u001b[0m\u001b[0;34m(\u001b[0m\u001b[0miterator\u001b[0m\u001b[0;34m)\u001b[0m\u001b[0;34m\u001b[0m\u001b[0;34m\u001b[0m\u001b[0m\n\u001b[0m\u001b[1;32m   1784\u001b[0m                             \u001b[0;32mif\u001b[0m \u001b[0mdata_handler\u001b[0m\u001b[0;34m.\u001b[0m\u001b[0mshould_sync\u001b[0m\u001b[0;34m:\u001b[0m\u001b[0;34m\u001b[0m\u001b[0;34m\u001b[0m\u001b[0m\n\u001b[1;32m   1785\u001b[0m                                 \u001b[0mcontext\u001b[0m\u001b[0;34m.\u001b[0m\u001b[0masync_wait\u001b[0m\u001b[0;34m(\u001b[0m\u001b[0;34m)\u001b[0m\u001b[0;34m\u001b[0m\u001b[0;34m\u001b[0m\u001b[0m\n",
            "\u001b[0;32m/usr/local/lib/python3.10/dist-packages/tensorflow/python/util/traceback_utils.py\u001b[0m in \u001b[0;36merror_handler\u001b[0;34m(*args, **kwargs)\u001b[0m\n\u001b[1;32m    148\u001b[0m     \u001b[0mfiltered_tb\u001b[0m \u001b[0;34m=\u001b[0m \u001b[0;32mNone\u001b[0m\u001b[0;34m\u001b[0m\u001b[0;34m\u001b[0m\u001b[0m\n\u001b[1;32m    149\u001b[0m     \u001b[0;32mtry\u001b[0m\u001b[0;34m:\u001b[0m\u001b[0;34m\u001b[0m\u001b[0;34m\u001b[0m\u001b[0m\n\u001b[0;32m--> 150\u001b[0;31m       \u001b[0;32mreturn\u001b[0m \u001b[0mfn\u001b[0m\u001b[0;34m(\u001b[0m\u001b[0;34m*\u001b[0m\u001b[0margs\u001b[0m\u001b[0;34m,\u001b[0m \u001b[0;34m**\u001b[0m\u001b[0mkwargs\u001b[0m\u001b[0;34m)\u001b[0m\u001b[0;34m\u001b[0m\u001b[0;34m\u001b[0m\u001b[0m\n\u001b[0m\u001b[1;32m    151\u001b[0m     \u001b[0;32mexcept\u001b[0m \u001b[0mException\u001b[0m \u001b[0;32mas\u001b[0m \u001b[0me\u001b[0m\u001b[0;34m:\u001b[0m\u001b[0;34m\u001b[0m\u001b[0;34m\u001b[0m\u001b[0m\n\u001b[1;32m    152\u001b[0m       \u001b[0mfiltered_tb\u001b[0m \u001b[0;34m=\u001b[0m \u001b[0m_process_traceback_frames\u001b[0m\u001b[0;34m(\u001b[0m\u001b[0me\u001b[0m\u001b[0;34m.\u001b[0m\u001b[0m__traceback__\u001b[0m\u001b[0;34m)\u001b[0m\u001b[0;34m\u001b[0m\u001b[0;34m\u001b[0m\u001b[0m\n",
            "\u001b[0;32m/usr/local/lib/python3.10/dist-packages/tensorflow/python/eager/polymorphic_function/polymorphic_function.py\u001b[0m in \u001b[0;36m__call__\u001b[0;34m(self, *args, **kwds)\u001b[0m\n\u001b[1;32m    829\u001b[0m \u001b[0;34m\u001b[0m\u001b[0m\n\u001b[1;32m    830\u001b[0m       \u001b[0;32mwith\u001b[0m \u001b[0mOptionalXlaContext\u001b[0m\u001b[0;34m(\u001b[0m\u001b[0mself\u001b[0m\u001b[0;34m.\u001b[0m\u001b[0m_jit_compile\u001b[0m\u001b[0;34m)\u001b[0m\u001b[0;34m:\u001b[0m\u001b[0;34m\u001b[0m\u001b[0;34m\u001b[0m\u001b[0m\n\u001b[0;32m--> 831\u001b[0;31m         \u001b[0mresult\u001b[0m \u001b[0;34m=\u001b[0m \u001b[0mself\u001b[0m\u001b[0;34m.\u001b[0m\u001b[0m_call\u001b[0m\u001b[0;34m(\u001b[0m\u001b[0;34m*\u001b[0m\u001b[0margs\u001b[0m\u001b[0;34m,\u001b[0m \u001b[0;34m**\u001b[0m\u001b[0mkwds\u001b[0m\u001b[0;34m)\u001b[0m\u001b[0;34m\u001b[0m\u001b[0;34m\u001b[0m\u001b[0m\n\u001b[0m\u001b[1;32m    832\u001b[0m \u001b[0;34m\u001b[0m\u001b[0m\n\u001b[1;32m    833\u001b[0m       \u001b[0mnew_tracing_count\u001b[0m \u001b[0;34m=\u001b[0m \u001b[0mself\u001b[0m\u001b[0;34m.\u001b[0m\u001b[0mexperimental_get_tracing_count\u001b[0m\u001b[0;34m(\u001b[0m\u001b[0;34m)\u001b[0m\u001b[0;34m\u001b[0m\u001b[0;34m\u001b[0m\u001b[0m\n",
            "\u001b[0;32m/usr/local/lib/python3.10/dist-packages/tensorflow/python/eager/polymorphic_function/polymorphic_function.py\u001b[0m in \u001b[0;36m_call\u001b[0;34m(self, *args, **kwds)\u001b[0m\n\u001b[1;32m    865\u001b[0m       \u001b[0;31m# In this case we have created variables on the first call, so we run the\u001b[0m\u001b[0;34m\u001b[0m\u001b[0;34m\u001b[0m\u001b[0m\n\u001b[1;32m    866\u001b[0m       \u001b[0;31m# defunned version which is guaranteed to never create variables.\u001b[0m\u001b[0;34m\u001b[0m\u001b[0;34m\u001b[0m\u001b[0m\n\u001b[0;32m--> 867\u001b[0;31m       return tracing_compilation.call_function(\n\u001b[0m\u001b[1;32m    868\u001b[0m           \u001b[0margs\u001b[0m\u001b[0;34m,\u001b[0m \u001b[0mkwds\u001b[0m\u001b[0;34m,\u001b[0m \u001b[0mself\u001b[0m\u001b[0;34m.\u001b[0m\u001b[0m_no_variable_creation_config\u001b[0m\u001b[0;34m\u001b[0m\u001b[0;34m\u001b[0m\u001b[0m\n\u001b[1;32m    869\u001b[0m       )\n",
            "\u001b[0;32m/usr/local/lib/python3.10/dist-packages/tensorflow/python/eager/polymorphic_function/tracing_compilation.py\u001b[0m in \u001b[0;36mcall_function\u001b[0;34m(args, kwargs, tracing_options)\u001b[0m\n\u001b[1;32m    137\u001b[0m   \u001b[0mbound_args\u001b[0m \u001b[0;34m=\u001b[0m \u001b[0mfunction\u001b[0m\u001b[0;34m.\u001b[0m\u001b[0mfunction_type\u001b[0m\u001b[0;34m.\u001b[0m\u001b[0mbind\u001b[0m\u001b[0;34m(\u001b[0m\u001b[0;34m*\u001b[0m\u001b[0margs\u001b[0m\u001b[0;34m,\u001b[0m \u001b[0;34m**\u001b[0m\u001b[0mkwargs\u001b[0m\u001b[0;34m)\u001b[0m\u001b[0;34m\u001b[0m\u001b[0;34m\u001b[0m\u001b[0m\n\u001b[1;32m    138\u001b[0m   \u001b[0mflat_inputs\u001b[0m \u001b[0;34m=\u001b[0m \u001b[0mfunction\u001b[0m\u001b[0;34m.\u001b[0m\u001b[0mfunction_type\u001b[0m\u001b[0;34m.\u001b[0m\u001b[0munpack_inputs\u001b[0m\u001b[0;34m(\u001b[0m\u001b[0mbound_args\u001b[0m\u001b[0;34m)\u001b[0m\u001b[0;34m\u001b[0m\u001b[0;34m\u001b[0m\u001b[0m\n\u001b[0;32m--> 139\u001b[0;31m   return function._call_flat(  # pylint: disable=protected-access\n\u001b[0m\u001b[1;32m    140\u001b[0m       \u001b[0mflat_inputs\u001b[0m\u001b[0;34m,\u001b[0m \u001b[0mcaptured_inputs\u001b[0m\u001b[0;34m=\u001b[0m\u001b[0mfunction\u001b[0m\u001b[0;34m.\u001b[0m\u001b[0mcaptured_inputs\u001b[0m\u001b[0;34m\u001b[0m\u001b[0;34m\u001b[0m\u001b[0m\n\u001b[1;32m    141\u001b[0m   )\n",
            "\u001b[0;32m/usr/local/lib/python3.10/dist-packages/tensorflow/python/eager/polymorphic_function/concrete_function.py\u001b[0m in \u001b[0;36m_call_flat\u001b[0;34m(self, tensor_inputs, captured_inputs)\u001b[0m\n\u001b[1;32m   1262\u001b[0m         and executing_eagerly):\n\u001b[1;32m   1263\u001b[0m       \u001b[0;31m# No tape is watching; skip to running the function.\u001b[0m\u001b[0;34m\u001b[0m\u001b[0;34m\u001b[0m\u001b[0m\n\u001b[0;32m-> 1264\u001b[0;31m       \u001b[0;32mreturn\u001b[0m \u001b[0mself\u001b[0m\u001b[0;34m.\u001b[0m\u001b[0m_inference_function\u001b[0m\u001b[0;34m.\u001b[0m\u001b[0mflat_call\u001b[0m\u001b[0;34m(\u001b[0m\u001b[0margs\u001b[0m\u001b[0;34m)\u001b[0m\u001b[0;34m\u001b[0m\u001b[0;34m\u001b[0m\u001b[0m\n\u001b[0m\u001b[1;32m   1265\u001b[0m     forward_backward = self._select_forward_and_backward_functions(\n\u001b[1;32m   1266\u001b[0m         \u001b[0margs\u001b[0m\u001b[0;34m,\u001b[0m\u001b[0;34m\u001b[0m\u001b[0;34m\u001b[0m\u001b[0m\n",
            "\u001b[0;32m/usr/local/lib/python3.10/dist-packages/tensorflow/python/eager/polymorphic_function/atomic_function.py\u001b[0m in \u001b[0;36mflat_call\u001b[0;34m(self, args)\u001b[0m\n\u001b[1;32m    215\u001b[0m   \u001b[0;32mdef\u001b[0m \u001b[0mflat_call\u001b[0m\u001b[0;34m(\u001b[0m\u001b[0mself\u001b[0m\u001b[0;34m,\u001b[0m \u001b[0margs\u001b[0m\u001b[0;34m:\u001b[0m \u001b[0mSequence\u001b[0m\u001b[0;34m[\u001b[0m\u001b[0mcore\u001b[0m\u001b[0;34m.\u001b[0m\u001b[0mTensor\u001b[0m\u001b[0;34m]\u001b[0m\u001b[0;34m)\u001b[0m \u001b[0;34m->\u001b[0m \u001b[0mAny\u001b[0m\u001b[0;34m:\u001b[0m\u001b[0;34m\u001b[0m\u001b[0;34m\u001b[0m\u001b[0m\n\u001b[1;32m    216\u001b[0m     \u001b[0;34m\"\"\"Calls with tensor inputs and returns the structured output.\"\"\"\u001b[0m\u001b[0;34m\u001b[0m\u001b[0;34m\u001b[0m\u001b[0m\n\u001b[0;32m--> 217\u001b[0;31m     \u001b[0mflat_outputs\u001b[0m \u001b[0;34m=\u001b[0m \u001b[0mself\u001b[0m\u001b[0;34m(\u001b[0m\u001b[0;34m*\u001b[0m\u001b[0margs\u001b[0m\u001b[0;34m)\u001b[0m\u001b[0;34m\u001b[0m\u001b[0;34m\u001b[0m\u001b[0m\n\u001b[0m\u001b[1;32m    218\u001b[0m     \u001b[0;32mreturn\u001b[0m \u001b[0mself\u001b[0m\u001b[0;34m.\u001b[0m\u001b[0mfunction_type\u001b[0m\u001b[0;34m.\u001b[0m\u001b[0mpack_output\u001b[0m\u001b[0;34m(\u001b[0m\u001b[0mflat_outputs\u001b[0m\u001b[0;34m)\u001b[0m\u001b[0;34m\u001b[0m\u001b[0;34m\u001b[0m\u001b[0m\n\u001b[1;32m    219\u001b[0m \u001b[0;34m\u001b[0m\u001b[0m\n",
            "\u001b[0;32m/usr/local/lib/python3.10/dist-packages/tensorflow/python/eager/polymorphic_function/atomic_function.py\u001b[0m in \u001b[0;36m__call__\u001b[0;34m(self, *args)\u001b[0m\n\u001b[1;32m    250\u001b[0m         \u001b[0;32mwith\u001b[0m \u001b[0mrecord\u001b[0m\u001b[0;34m.\u001b[0m\u001b[0mstop_recording\u001b[0m\u001b[0;34m(\u001b[0m\u001b[0;34m)\u001b[0m\u001b[0;34m:\u001b[0m\u001b[0;34m\u001b[0m\u001b[0;34m\u001b[0m\u001b[0m\n\u001b[1;32m    251\u001b[0m           \u001b[0;32mif\u001b[0m \u001b[0mself\u001b[0m\u001b[0;34m.\u001b[0m\u001b[0m_bound_context\u001b[0m\u001b[0;34m.\u001b[0m\u001b[0mexecuting_eagerly\u001b[0m\u001b[0;34m(\u001b[0m\u001b[0;34m)\u001b[0m\u001b[0;34m:\u001b[0m\u001b[0;34m\u001b[0m\u001b[0;34m\u001b[0m\u001b[0m\n\u001b[0;32m--> 252\u001b[0;31m             outputs = self._bound_context.call_function(\n\u001b[0m\u001b[1;32m    253\u001b[0m                 \u001b[0mself\u001b[0m\u001b[0;34m.\u001b[0m\u001b[0mname\u001b[0m\u001b[0;34m,\u001b[0m\u001b[0;34m\u001b[0m\u001b[0;34m\u001b[0m\u001b[0m\n\u001b[1;32m    254\u001b[0m                 \u001b[0mlist\u001b[0m\u001b[0;34m(\u001b[0m\u001b[0margs\u001b[0m\u001b[0;34m)\u001b[0m\u001b[0;34m,\u001b[0m\u001b[0;34m\u001b[0m\u001b[0;34m\u001b[0m\u001b[0m\n",
            "\u001b[0;32m/usr/local/lib/python3.10/dist-packages/tensorflow/python/eager/context.py\u001b[0m in \u001b[0;36mcall_function\u001b[0;34m(self, name, tensor_inputs, num_outputs)\u001b[0m\n\u001b[1;32m   1477\u001b[0m     \u001b[0mcancellation_context\u001b[0m \u001b[0;34m=\u001b[0m \u001b[0mcancellation\u001b[0m\u001b[0;34m.\u001b[0m\u001b[0mcontext\u001b[0m\u001b[0;34m(\u001b[0m\u001b[0;34m)\u001b[0m\u001b[0;34m\u001b[0m\u001b[0;34m\u001b[0m\u001b[0m\n\u001b[1;32m   1478\u001b[0m     \u001b[0;32mif\u001b[0m \u001b[0mcancellation_context\u001b[0m \u001b[0;32mis\u001b[0m \u001b[0;32mNone\u001b[0m\u001b[0;34m:\u001b[0m\u001b[0;34m\u001b[0m\u001b[0;34m\u001b[0m\u001b[0m\n\u001b[0;32m-> 1479\u001b[0;31m       outputs = execute.execute(\n\u001b[0m\u001b[1;32m   1480\u001b[0m           \u001b[0mname\u001b[0m\u001b[0;34m.\u001b[0m\u001b[0mdecode\u001b[0m\u001b[0;34m(\u001b[0m\u001b[0;34m\"utf-8\"\u001b[0m\u001b[0;34m)\u001b[0m\u001b[0;34m,\u001b[0m\u001b[0;34m\u001b[0m\u001b[0;34m\u001b[0m\u001b[0m\n\u001b[1;32m   1481\u001b[0m           \u001b[0mnum_outputs\u001b[0m\u001b[0;34m=\u001b[0m\u001b[0mnum_outputs\u001b[0m\u001b[0;34m,\u001b[0m\u001b[0;34m\u001b[0m\u001b[0;34m\u001b[0m\u001b[0m\n",
            "\u001b[0;32m/usr/local/lib/python3.10/dist-packages/tensorflow/python/eager/execute.py\u001b[0m in \u001b[0;36mquick_execute\u001b[0;34m(op_name, num_outputs, inputs, attrs, ctx, name)\u001b[0m\n\u001b[1;32m     58\u001b[0m         \u001b[0;32mfor\u001b[0m \u001b[0mt\u001b[0m \u001b[0;32min\u001b[0m \u001b[0minputs\u001b[0m\u001b[0;34m\u001b[0m\u001b[0;34m\u001b[0m\u001b[0m\n\u001b[1;32m     59\u001b[0m     ]\n\u001b[0;32m---> 60\u001b[0;31m     tensors = pywrap_tfe.TFE_Py_Execute(ctx._handle, device_name, op_name,\n\u001b[0m\u001b[1;32m     61\u001b[0m                                         inputs, attrs, num_outputs)\n\u001b[1;32m     62\u001b[0m   \u001b[0;32mexcept\u001b[0m \u001b[0mcore\u001b[0m\u001b[0;34m.\u001b[0m\u001b[0m_NotOkStatusException\u001b[0m \u001b[0;32mas\u001b[0m \u001b[0me\u001b[0m\u001b[0;34m:\u001b[0m\u001b[0;34m\u001b[0m\u001b[0;34m\u001b[0m\u001b[0m\n",
            "\u001b[0;31mKeyboardInterrupt\u001b[0m: "
          ]
        }
      ]
    },
    {
      "cell_type": "code",
      "source": [
        "train_generator = train_datagen.flow(\n",
        "    X_train,\n",
        "    y_train,\n",
        "    batch_size = 128)  #images to generate in a batch"
      ],
      "metadata": {
        "id": "R9HAt2ZmkQUG"
      },
      "execution_count": null,
      "outputs": []
    },
    {
      "cell_type": "code",
      "source": [
        "threshold = 0.5\n",
        "X = (X >= 0.5).astype(int)"
      ],
      "metadata": {
        "id": "zRyncL3r6n7f"
      },
      "execution_count": null,
      "outputs": []
    },
    {
      "cell_type": "code",
      "source": [
        "# Pad each element within the tensor with 2 zeros\n",
        "padded_tensor = np.zeros((X.shape[0], X.shape[1]+2, X.shape[2]+2))\n",
        "for i in range(X.shape[0]):\n",
        "    for j in range(X.shape[1]):\n",
        "        for k in range(X.shape[2]):\n",
        "            padded_tensor[i, j+1, k+1] = X[i, j, k]"
      ],
      "metadata": {
        "id": "oVmSOhkb6zK_"
      },
      "execution_count": null,
      "outputs": []
    },
    {
      "cell_type": "code",
      "source": [
        "replace_X = []\n",
        "\n",
        "for i in range(len(X)):\n",
        "  replace_X.append(cv2.resize(X[i], (25,25)))\n",
        "\n",
        "X = np.array(replace_X)"
      ],
      "metadata": {
        "id": "hCdl5Pxh63ot"
      },
      "execution_count": null,
      "outputs": []
    },
    {
      "cell_type": "code",
      "source": [
        "def invert_colors(image):\n",
        "    # Determine the maximum pixel value based on the data type\n",
        "    max_value = np.max(image)\n",
        "\n",
        "    # Invert colors by subtracting each pixel value from the maximum value\n",
        "    inverted_image = max_value - image\n",
        "\n",
        "    return inverted_image\n",
        "\n",
        "images_to_invert_indices = np.random.choice(range(len(X)), int(0.1 * len(X)), replace=False)\n",
        "\n",
        "# Create a list to store both original and inverted images\n",
        "combined_images = []\n",
        "\n",
        "# Iterate through the images and create combined array of original and inverted images\n",
        "for i in range(len(X)):\n",
        "    if i in images_to_invert_indices:\n",
        "        # Invert colors for selected images\n",
        "        combined_images.append(invert_colors(X[i]))\n",
        "    else:\n",
        "        combined_images.append(X[i])\n",
        "\n",
        "# Convert the combined images list into a single NumPy array\n",
        "X = np.array(combined_images)\n",
        "\n",
        "# Check the shape of the combined array\n",
        "print(\"Shape of Combined Images Array:\", X.shape)"
      ],
      "metadata": {
        "id": "HSb3pLQk7C7e"
      },
      "execution_count": null,
      "outputs": []
    },
    {
      "cell_type": "code",
      "source": [
        "class CustomPreprocessingLayer(tensorflow.keras.layers.Layer):\n",
        "    def __init__(self, **kwargs):\n",
        "        super(CustomPreprocessingLayer, self).__init__(**kwargs)\n",
        "        # Define any initialization logic here\n",
        "\n",
        "    def call(self, X):\n",
        "        # Define your custom preprocessing logic here\n",
        "        X = tf.cast(X >= 0.5, tf.int32)  # Convert boolean mask to integers (0 or 1)\n",
        "        X = tf.cast(X, tf.float32)\n",
        "\n",
        "        #padded_tensor = tf.pad(X, paddings=[[0, 0], [1, 1], [1, 1], [0,0]])  # Pad the tensor\n",
        "\n",
        "        # Return the padded tensor\n",
        "        return padded_tensor\n",
        "\n",
        "         # Replace with your preprocessing function\n",
        "        return padded_tensor\n",
        "\n",
        "    def get_config(self):\n",
        "        base_config = super(CustomPreprocessingLayer, self).get_config()\n",
        "        return {**base_config}"
      ],
      "metadata": {
        "id": "sJjf279Z7IxS"
      },
      "execution_count": null,
      "outputs": []
    },
    {
      "cell_type": "code",
      "source": [
        "tf.experimental.numpy.experimental_enable_numpy_behavior(\n",
        "    prefer_float32=False, dtype_conversion_mode='legacy'\n",
        ")"
      ],
      "metadata": {
        "id": "Cg6jhsUR7Ou6"
      },
      "execution_count": null,
      "outputs": []
    },
    {
      "cell_type": "code",
      "source": [
        "X, y = get_data()\n",
        "y[y != 0] -= 2\n",
        "X /= 255\n",
        "\n",
        "seq = iaa.Sequential([\n",
        "    #iaa.Fliplr(0.3),  # Flip horizontally with a 50% chance\n",
        "    #iaa.Affine(rotate=(-15, 15)),  # Rotate image by -45 to 45 degrees\n",
        "    iaa.Affine(translate_percent={\"x\": (-0.3, 0.3), \"y\": (-0.3, 0.3)}),\n",
        "    iaa.Affine(scale={\"x\": (1.0, 1.2), \"y\": (1.0, 1.2)})\n",
        "    #iaa.GaussianBlur(sigma=(0.0, 1.0)),  # Apply Gaussian blur with sigma range\n",
        "    #aa.AdditiveGaussianNoise(scale=(0, 0.001)),  # Add Gaussian noise\n",
        "    #iaa.Affine(shear=(-10, 10))  # Apply shearing transformation\n",
        "])\n",
        "\n",
        "X_aug = []\n",
        "X = X.astype(np.float32)\n",
        "\n",
        "for i in range(len(X)):\n",
        "  X_aug.append(seq(image=X[i]))\n",
        "\n",
        "X = np.array(X_aug)\n",
        "\n",
        "del X_aug\n",
        "\n",
        "X_train, X_test, y_train, y_test = train_test_split(X, y, test_size=0.2, random_state=42)"
      ],
      "metadata": {
        "id": "446klz-dz_uX"
      },
      "execution_count": null,
      "outputs": []
    }
  ]
}